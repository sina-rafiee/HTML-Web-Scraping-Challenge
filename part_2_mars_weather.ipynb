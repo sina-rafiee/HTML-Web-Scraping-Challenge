{
 "cells": [
  {
   "cell_type": "markdown",
   "metadata": {},
   "source": [
    "# Module 12 Challenge\n",
    "## Deliverable 2: Scrape and Analyze Mars Weather Data"
   ]
  },
  {
   "cell_type": "code",
   "execution_count": 2,
   "metadata": {},
   "outputs": [],
   "source": [
    "# Import relevant libraries\n",
    "from splinter import Browser\n",
    "from bs4 import BeautifulSoup as soup\n",
    "import matplotlib.pyplot as plt\n",
    "import pandas as pd"
   ]
  },
  {
   "cell_type": "code",
   "execution_count": 3,
   "metadata": {},
   "outputs": [],
   "source": [
    "browser = Browser('chrome')"
   ]
  },
  {
   "cell_type": "markdown",
   "metadata": {},
   "source": [
    "### Step 1: Visit the Website\n",
    "\n",
    "Use automated browsing to visit the [Mars Temperature Data Site](https://static.bc-edx.com/data/web/mars_facts/temperature.html). Inspect the page to identify which elements to scrape.\n",
    "\n",
    "   > **Hint** To identify which elements to scrape, you might want to inspect the page by using Chrome DevTools to discover whether the table contains usable classes.\n"
   ]
  },
  {
   "cell_type": "code",
   "execution_count": 4,
   "metadata": {},
   "outputs": [],
   "source": [
    "# Visit the website\n",
    "# https://static.bc-edx.com/data/web/mars_facts/temperature.html\n",
    "\n",
    "url = \"https://static.bc-edx.com/data/web/mars_facts/temperature.html\"\n",
    "browser.visit(url)"
   ]
  },
  {
   "cell_type": "markdown",
   "metadata": {},
   "source": [
    "### Step 2: Scrape the Table\n",
    "\n",
    "Create a Beautiful Soup object and use it to scrape the data in the HTML table.\n",
    "\n",
    "Note that this can also be achieved by using the Pandas `read_html` function. However, use Beautiful Soup here to continue sharpening your web scraping skills."
   ]
  },
  {
   "cell_type": "code",
   "execution_count": 5,
   "metadata": {},
   "outputs": [],
   "source": [
    "# Create a Beautiful Soup Object\n",
    "\n",
    "html = browser.html\n",
    "bsobject = soup(html, 'html.parser')"
   ]
  },
  {
   "cell_type": "code",
   "execution_count": 6,
   "metadata": {},
   "outputs": [],
   "source": [
    "# Extract all rows of data\n",
    "\n",
    "HTML_table = bsobject.find('tbody')\n",
    "\n",
    "Rows = HTML_table.find_all('tr', class_='data-row')"
   ]
  },
  {
   "cell_type": "markdown",
   "metadata": {},
   "source": [
    "### Step 3: Store the Data\n",
    "\n",
    "Assemble the scraped data into a Pandas DataFrame. The columns should have the same headings as the table on the website. Here’s an explanation of the column headings:\n",
    "\n",
    "* `id`: the identification number of a single transmission from the Curiosity rover\n",
    "* `terrestrial_date`: the date on Earth\n",
    "* `sol`: the number of elapsed sols (Martian days) since Curiosity landed on Mars\n",
    "* `ls`: the solar longitude\n",
    "* `month`: the Martian month\n",
    "* `min_temp`: the minimum temperature, in Celsius, of a single Martian day (sol)\n",
    "* `pressure`: The atmospheric pressure at Curiosity's location"
   ]
  },
  {
   "cell_type": "code",
   "execution_count": 7,
   "metadata": {},
   "outputs": [],
   "source": [
    "# Create an empty list\n",
    "id = []\n",
    "t_date = []\n",
    "sol = []\n",
    "ls = []\n",
    "month = []\n",
    "min_temp = []\n",
    "pressure = []\n",
    "\n",
    "# Loop through the scraped data to create a list of rows\n",
    "\n",
    "for _ in Rows:\n",
    "    id.append(_.find_all('td')[0].text)\n",
    "    t_date.append(_.find_all('td')[1].text)\n",
    "    sol.append(_.find_all('td')[2].text)\n",
    "    ls.append(_.find_all('td')[3].text)\n",
    "    month.append(_.find_all('td')[4].text)\n",
    "    min_temp.append(_.find_all('td')[5].text)\n",
    "    pressure.append(_.find_all('td')[6].text)"
   ]
  },
  {
   "cell_type": "code",
   "execution_count": 8,
   "metadata": {},
   "outputs": [],
   "source": [
    "# Create a Pandas DataFrame by using the list of rows and a list of the column names\n",
    "SuperDict = {\"ID\" : id, 'Terrestrial_Date' : t_date, 'Sol' : sol, 'LS' : ls, 'Mars_Months' : month, 'Min_Temp' : min_temp, 'Pressure' : pressure}\n",
    "MarsScrapePD = pd.DataFrame(data = SuperDict)\n",
    "\n"
   ]
  },
  {
   "cell_type": "markdown",
   "metadata": {},
   "source": [
    "### Step 4: Prepare Data for Analysis\n",
    "\n",
    "Examine the data types that are currently associated with each column. If necessary, cast (or convert) the data to the appropriate `datetime`, `int`, or `float` data types.\n",
    "\n",
    "  > **Hint** You can use the Pandas `astype` and `to_datetime` methods to accomplish this task.\n"
   ]
  },
  {
   "cell_type": "code",
   "execution_count": 9,
   "metadata": {},
   "outputs": [
    {
     "data": {
      "text/html": [
       "<div>\n",
       "<style scoped>\n",
       "    .dataframe tbody tr th:only-of-type {\n",
       "        vertical-align: middle;\n",
       "    }\n",
       "\n",
       "    .dataframe tbody tr th {\n",
       "        vertical-align: top;\n",
       "    }\n",
       "\n",
       "    .dataframe thead th {\n",
       "        text-align: right;\n",
       "    }\n",
       "</style>\n",
       "<table border=\"1\" class=\"dataframe\">\n",
       "  <thead>\n",
       "    <tr style=\"text-align: right;\">\n",
       "      <th></th>\n",
       "      <th>ID</th>\n",
       "      <th>Terrestrial_Date</th>\n",
       "      <th>Sol</th>\n",
       "      <th>LS</th>\n",
       "      <th>Mars_Months</th>\n",
       "      <th>Min_Temp</th>\n",
       "      <th>Pressure</th>\n",
       "    </tr>\n",
       "  </thead>\n",
       "  <tbody>\n",
       "    <tr>\n",
       "      <th>0</th>\n",
       "      <td>2</td>\n",
       "      <td>2012-08-16</td>\n",
       "      <td>10</td>\n",
       "      <td>155</td>\n",
       "      <td>6</td>\n",
       "      <td>-75.0</td>\n",
       "      <td>739.0</td>\n",
       "    </tr>\n",
       "    <tr>\n",
       "      <th>1</th>\n",
       "      <td>13</td>\n",
       "      <td>2012-08-17</td>\n",
       "      <td>11</td>\n",
       "      <td>156</td>\n",
       "      <td>6</td>\n",
       "      <td>-76.0</td>\n",
       "      <td>740.0</td>\n",
       "    </tr>\n",
       "    <tr>\n",
       "      <th>2</th>\n",
       "      <td>24</td>\n",
       "      <td>2012-08-18</td>\n",
       "      <td>12</td>\n",
       "      <td>156</td>\n",
       "      <td>6</td>\n",
       "      <td>-76.0</td>\n",
       "      <td>741.0</td>\n",
       "    </tr>\n",
       "    <tr>\n",
       "      <th>3</th>\n",
       "      <td>35</td>\n",
       "      <td>2012-08-19</td>\n",
       "      <td>13</td>\n",
       "      <td>157</td>\n",
       "      <td>6</td>\n",
       "      <td>-74.0</td>\n",
       "      <td>732.0</td>\n",
       "    </tr>\n",
       "    <tr>\n",
       "      <th>4</th>\n",
       "      <td>46</td>\n",
       "      <td>2012-08-20</td>\n",
       "      <td>14</td>\n",
       "      <td>157</td>\n",
       "      <td>6</td>\n",
       "      <td>-74.0</td>\n",
       "      <td>740.0</td>\n",
       "    </tr>\n",
       "  </tbody>\n",
       "</table>\n",
       "</div>"
      ],
      "text/plain": [
       "   ID Terrestrial_Date Sol   LS Mars_Months Min_Temp Pressure\n",
       "0   2       2012-08-16  10  155           6    -75.0    739.0\n",
       "1  13       2012-08-17  11  156           6    -76.0    740.0\n",
       "2  24       2012-08-18  12  156           6    -76.0    741.0\n",
       "3  35       2012-08-19  13  157           6    -74.0    732.0\n",
       "4  46       2012-08-20  14  157           6    -74.0    740.0"
      ]
     },
     "execution_count": 9,
     "metadata": {},
     "output_type": "execute_result"
    }
   ],
   "source": [
    "MarsScrapePD.head()\n"
   ]
  },
  {
   "cell_type": "markdown",
   "metadata": {},
   "source": [
    "### Step 5: Analyze the Data\n",
    "\n",
    "Analyze your dataset by using Pandas functions to answer the following questions:\n",
    "\n",
    "1. How many months exist on Mars?\n",
    "2. How many Martian (and not Earth) days worth of data exist in the scraped dataset?\n",
    "3. What are the coldest and the warmest months on Mars (at the location of Curiosity)? To answer this question:\n",
    "    * Find the average the minimum daily temperature for all of the months.\n",
    "    * Plot the results as a bar chart.\n",
    "4. Which months have the lowest and the highest atmospheric pressure on Mars? To answer this question:\n",
    "    * Find the average the daily atmospheric pressure of all the months.\n",
    "    * Plot the results as a bar chart.\n",
    "5. About how many terrestrial (Earth) days exist in a Martian year? To answer this question:\n",
    "    * Consider how many days elapse on Earth in the time that Mars circles the Sun once.\n",
    "    * Visually estimate the result by plotting the daily minimum temperature.\n"
   ]
  },
  {
   "cell_type": "code",
   "execution_count": 10,
   "metadata": {},
   "outputs": [],
   "source": [
    "MarsScrapePD['Pressure'] = pd.to_numeric(MarsScrapePD.Pressure)\n",
    "MarsScrapePD['Min_Temp'] = pd.to_numeric(MarsScrapePD.Min_Temp)\n",
    "MarsScrapePD['Mars_Months'] = pd.to_numeric(MarsScrapePD.Mars_Months)\n",
    "MarsScrapePD['LS'] = pd.to_numeric(MarsScrapePD.LS)\n",
    "MarsScrapePD['Terrestrial_Date'] = pd.to_datetime(MarsScrapePD.Terrestrial_Date)\n",
    "MarsScrapePD['Sol'] = pd.to_numeric(MarsScrapePD.Sol)\n"
   ]
  },
  {
   "cell_type": "code",
   "execution_count": 11,
   "metadata": {},
   "outputs": [
    {
     "name": "stdout",
     "output_type": "stream",
     "text": [
      "According to our dataset, there are 12 Months in one mars year.\n"
     ]
    }
   ],
   "source": [
    "\n",
    "Maths = MarsScrapePD['Mars_Months'].max()\n",
    "\n",
    "print('According to our dataset, there are ' + str(Maths) + ' Months in one mars year.')\n"
   ]
  },
  {
   "cell_type": "code",
   "execution_count": 12,
   "metadata": {},
   "outputs": [
    {
     "name": "stdout",
     "output_type": "stream",
     "text": [
      "This Dataset has 1867 Martian days'(sol) worth of data.\n"
     ]
    }
   ],
   "source": [
    "\n",
    "UniqueDays = len(pd.unique(MarsScrapePD['Sol']))\n",
    "print('This Dataset has ' + str(UniqueDays) + \" Martian days'(sol) worth of data.\")"
   ]
  },
  {
   "cell_type": "code",
   "execution_count": 13,
   "metadata": {},
   "outputs": [
    {
     "name": "stdout",
     "output_type": "stream",
     "text": [
      "The average low temperature by month is -75.50100255873393\n"
     ]
    }
   ],
   "source": [
    "mTemp = {}\n",
    "for _ in range(0, int(Maths)):\n",
    "    mTemp[_] = MarsScrapePD[MarsScrapePD['Mars_Months'] == (1+_)]\n",
    "\n",
    "MonthTempAvg = []\n",
    "for _ in range(0, int(Maths)):\n",
    "    MonthTempAvg.append(mTemp[_]['Min_Temp'].mean())\n",
    "\n",
    "print('The average low temperature by month is ' + str(sum(MonthTempAvg)/len(MonthTempAvg)))"
   ]
  },
  {
   "cell_type": "code",
   "execution_count": 14,
   "metadata": {},
   "outputs": [
    {
     "data": {
      "image/png": "[encoded data removed]",
      "text/plain": [
       "<Figure size 640x480 with 1 Axes>"
      ]
     },
     "metadata": {},
     "output_type": "display_data"
    }
   ],
   "source": [
    "# Plot the average pressure by month\n",
    "months = []\n",
    "for _ in range(1, 13):\n",
    "    months.append(_)\n",
    "\n",
    "plt.plot(months, MonthTempAvg)\n",
    "plt.xlabel('Mars Months')\n",
    "plt.ylabel('Temperature')\n",
    "plt.show()"
   ]
  },
  {
   "cell_type": "code",
   "execution_count": 15,
   "metadata": {},
   "outputs": [
    {
     "name": "stdout",
     "output_type": "stream",
     "text": [
      "The Coldest month is: month 2 at -83.30729166666667 . The Hottest month is: month 7 at -68.38297872340425 .\n"
     ]
    }
   ],
   "source": [
    "x = min(MonthTempAvg)\n",
    "ColdMonth = MonthTempAvg.index(x)\n",
    "\n",
    "#Hottest Month\n",
    "y = max(MonthTempAvg)\n",
    "HotMonth = MonthTempAvg.index(y)\n",
    "\n",
    "print('The Coldest month is: month', ColdMonth,'at', x,\". The Hottest month is: month\", HotMonth, 'at', y, '.')"
   ]
  },
  {
   "cell_type": "code",
   "execution_count": 16,
   "metadata": {},
   "outputs": [
    {
     "data": {
      "text/plain": [
       "[862.4885057471264,\n",
       " 889.4550561797753,\n",
       " 877.3229166666666,\n",
       " 806.3298969072165,\n",
       " 748.5570469798657,\n",
       " 745.0544217687075,\n",
       " 795.1056338028169,\n",
       " 873.8297872340426,\n",
       " 913.3059701492538,\n",
       " 887.3125,\n",
       " 857.0144927536232,\n",
       " 842.156626506024]"
      ]
     },
     "execution_count": 16,
     "metadata": {},
     "output_type": "execute_result"
    }
   ],
   "source": [
    "mPres = {}\n",
    "for _ in range(0, int(Maths)):\n",
    "    mPres[_] = MarsScrapePD[MarsScrapePD['Mars_Months'] == (1+_)]\n",
    "MonthPresAvg = []\n",
    "for _ in range(0, int(Maths)):\n",
    "    MonthPresAvg.append(mPres[_]['Pressure'].mean())\n",
    "\n",
    "MonthPresAvg\n"
   ]
  },
  {
   "cell_type": "code",
   "execution_count": 17,
   "metadata": {},
   "outputs": [
    {
     "data": {
      "image/png": "[encoded data removed]",
      "text/plain": [
       "<Figure size 640x480 with 1 Axes>"
      ]
     },
     "metadata": {},
     "output_type": "display_data"
    }
   ],
   "source": [
    "plt.plot(months, MonthPresAvg)\n",
    "plt.xlabel('Mars Months')\n",
    "plt.ylabel('Temperature')\n",
    "plt.show()"
   ]
  },
  {
   "cell_type": "code",
   "execution_count": 18,
   "metadata": {},
   "outputs": [
    {
     "name": "stdout",
     "output_type": "stream",
     "text": [
      "The Lowest Pressure month is: month 5 at 745.0544217687075 . The Highest Pressure month is: month 8 at 913.3059701492538 .\n"
     ]
    }
   ],
   "source": [
    "x = min(MonthPresAvg)\n",
    "LPresMonth = MonthPresAvg.index(x)\n",
    "y = max(MonthPresAvg)\n",
    "HPresMonth = MonthPresAvg.index(y)\n",
    "print('The Lowest Pressure month is: month', LPresMonth,'at', x,\". The Highest Pressure month is: month\", HPresMonth, 'at', y, '.')"
   ]
  },
  {
   "cell_type": "code",
   "execution_count": 29,
   "metadata": {},
   "outputs": [
    {
     "name": "stdout",
     "output_type": "stream",
     "text": [
      "        ID Terrestrial_Date   Sol  LS  Mars_Months  Min_Temp  Pressure\n",
      "304    320       2013-08-01   351   0            1     -75.0     853.0\n",
      "305    319       2013-08-02   352   0            1     -77.0     854.0\n",
      "925    954       2015-06-19  1019   0            1     -81.0     849.0\n",
      "926    938       2015-06-20  1020   0            1     -63.0     832.0\n",
      "1579  1606       2017-05-06  1688   0            1     -76.0     840.0\n",
      "1580  1610       2017-05-07  1689   0            1     -75.0     840.0\n"
     ]
    },
    {
     "data": {
      "image/png": "[encoded data removed]",
      "text/plain": [
       "<Figure size 640x480 with 1 Axes>"
      ]
     },
     "metadata": {},
     "output_type": "display_data"
    },
    {
     "name": "stdout",
     "output_type": "stream",
     "text": [
      "We can see the Solar Longitude is at 0 every 668 days. This shows in the plot, with a repeating time period that looks slightly less than 2 years. \n"
     ]
    }
   ],
   "source": [
    "print(MarsScrapePD[MarsScrapePD['LS'] == 0])\n",
    "plt.plot(MarsScrapePD['Terrestrial_Date'], MarsScrapePD['LS'])\n",
    "plt.xlabel('Earth Years')\n",
    "plt.ylabel('Solar Longitude')\n",
    "plt.show()\n",
    "\n",
    "a = MarsScrapePD.iloc[925, 2] - MarsScrapePD.iloc[304, 2]\n",
    "print('We can see the Solar Longitude is at 0 every ' + str(a) + ' days. This shows in the plot, with a repeating time period that looks slightly less than 2 years. ')\n"
   ]
  },
  {
   "cell_type": "markdown",
   "metadata": {},
   "source": [
    "On average, the third month has the coldest minimum temperature on Mars, and the eighth month is the warmest. But it is always very cold there in human terms!\n",
    "\n"
   ]
  },
  {
   "cell_type": "markdown",
   "metadata": {},
   "source": [
    "Atmospheric pressure is, on average, lowest in the sixth month and highest in the ninth."
   ]
  },
  {
   "cell_type": "markdown",
   "metadata": {},
   "source": [
    "The distance from peak to peak is roughly 1425-750, or 675 days. A year on Mars appears to be about 675 days from the plot. Internet search confirms that a Mars year is equivalent to 687 earth days."
   ]
  },
  {
   "cell_type": "markdown",
   "metadata": {},
   "source": [
    "### Step 6: Save the Data\n",
    "\n",
    "Export the DataFrame to a CSV file."
   ]
  },
  {
   "cell_type": "code",
   "execution_count": 33,
   "metadata": {},
   "outputs": [],
   "source": [
    "# Write the data to a CSV\n",
    "MarsScrapePD.to_csv('../CSV_output/CSVData.csv')\n"
   ]
  },
  {
   "cell_type": "code",
   "execution_count": 32,
   "metadata": {},
   "outputs": [],
   "source": [
    "browser.quit()"
   ]
  },
  {
   "cell_type": "code",
   "execution_count": null,
   "metadata": {},
   "outputs": [],
   "source": []
  }
 ],
 "metadata": {
  "kernelspec": {
   "display_name": "base",
   "language": "python",
   "name": "python3"
  },
  "language_info": {
   "codemirror_mode": {
    "name": "ipython",
    "version": 3
   },
   "file_extension": ".py",
   "mimetype": "text/x-python",
   "name": "python",
   "nbconvert_exporter": "python",
   "pygments_lexer": "ipython3",
   "version": "3.9.13"
  },
  "vscode": {
   "interpreter": {
    "hash": "52d90d3cc821dd0beedd6e719dbdecc722c226b9d90ed1b663c34e1877f1142e"
   }
  }
 },
 "nbformat": 4,
 "nbformat_minor": 4
}
